{
  "nbformat": 4,
  "nbformat_minor": 0,
  "metadata": {
    "colab": {
      "name": "[eager off final] experience with iris dataset using tf.data & tf.keras & tensorflow.ipynb",
      "version": "0.3.2",
      "views": {},
      "default_view": {},
      "provenance": [
        {
          "file_id": "1yr7Fy-mF3_F-ooj7zo4mZQ80hvKlKnpq",
          "timestamp": 1533299225807
        },
        {
          "file_id": "1LmzXD9NZAD2y4G7AG0UZYcU_to2NCgKn",
          "timestamp": 1531254092152
        },
        {
          "file_id": "1JBUZh6LYjMpuwMY2pLbQIK8eSIvFNH75",
          "timestamp": 1531171176568
        },
        {
          "file_id": "18sc7Bg06f5HccZbP7fNm-2LC7yHgemFH",
          "timestamp": 1531086293811
        },
        {
          "file_id": "1p8rlad-1IGayARx-xbNfVWum_9SLR4YA",
          "timestamp": 1530276569660
        }
      ],
      "private_outputs": true,
      "collapsed_sections": []
    },
    "kernelspec": {
      "name": "python2",
      "display_name": "Python 2"
    },
    "accelerator": "GPU"
  },
  "cells": [
    {
      "metadata": {
        "id": "JatG0ZNHOBd8",
        "colab_type": "text"
      },
      "cell_type": "markdown",
      "source": [
        "# Experience with iris dataset using tf.keras & tensorflow"
      ]
    },
    {
      "metadata": {
        "id": "v0a-vcttI8f-",
        "colab_type": "code",
        "colab": {
          "autoexec": {
            "startup": false,
            "wait_interval": 0
          }
        }
      },
      "cell_type": "code",
      "source": [
        "import tensorflow as tf\n",
        "import pandas as pd\n",
        "import numpy as np"
      ],
      "execution_count": 0,
      "outputs": []
    },
    {
      "metadata": {
        "id": "ibZfNz2iRFIz",
        "colab_type": "text"
      },
      "cell_type": "markdown",
      "source": [
        "## Data download and dataset creation witout tf.data"
      ]
    },
    {
      "metadata": {
        "id": "sMgSBFkmu5rs",
        "colab_type": "code",
        "colab": {
          "autoexec": {
            "startup": false,
            "wait_interval": 0
          }
        }
      },
      "cell_type": "code",
      "source": [
        "train_ds_url = \"http://download.tensorflow.org/data/iris_training.csv\"\n",
        "test_ds_url = \"http://download.tensorflow.org/data/iris_test.csv\"\n",
        "ds_columns = ['SepalLength', 'SepalWidth','PetalLength', 'PetalWidth', 'Plants']\n",
        "species = np.array(['Setosa', 'Versicolor', 'Virginica'], dtype=np.object)"
      ],
      "execution_count": 0,
      "outputs": []
    },
    {
      "metadata": {
        "id": "HZP9j6sJ1a6u",
        "colab_type": "text"
      },
      "cell_type": "markdown",
      "source": [
        "## Load data"
      ]
    },
    {
      "metadata": {
        "id": "T9UHLPUqubG9",
        "colab_type": "code",
        "colab": {
          "autoexec": {
            "startup": false,
            "wait_interval": 0
          }
        }
      },
      "cell_type": "code",
      "source": [
        "categories='Plants'\n",
        "\n",
        "train_path = tf.keras.utils.get_file(train_ds_url.split('/')[-1], train_ds_url)\n",
        "test_path = tf.keras.utils.get_file(test_ds_url.split('/')[-1], test_ds_url)\n",
        "    \n",
        "train = pd.read_csv(train_path, names=ds_columns, header=0)\n",
        "train_plantfeatures, train_categories = train, train.pop(categories)\n",
        "\n",
        "test = pd.read_csv(test_path, names=ds_columns, header=0)\n",
        "test_plantfeatures, test_categories = test, test.pop(categories)"
      ],
      "execution_count": 0,
      "outputs": []
    },
    {
      "metadata": {
        "id": "oy-yiFDiReOo",
        "colab_type": "code",
        "colab": {
          "autoexec": {
            "startup": false,
            "wait_interval": 0
          }
        }
      },
      "cell_type": "code",
      "source": [
        "y_categorical = tf.contrib.keras.utils.to_categorical(train_categories, num_classes=3)\n",
        "y_categorical_test = tf.contrib.keras.utils.to_categorical(test_categories, num_classes=3)"
      ],
      "execution_count": 0,
      "outputs": []
    },
    {
      "metadata": {
        "id": "hXxeXsEIpRCT",
        "colab_type": "text"
      },
      "cell_type": "markdown",
      "source": [
        "##  Build  the Dataset\n",
        "from_tensor_slices\n",
        "\n",
        "To build the dataset we will use tf.data.Dataset set of elements. "
      ]
    },
    {
      "metadata": {
        "id": "tvbH7NGjpT6v",
        "colab_type": "code",
        "colab": {
          "autoexec": {
            "startup": false,
            "wait_interval": 0
          }
        }
      },
      "cell_type": "code",
      "source": [
        "dataset = tf.data.Dataset.from_tensor_slices((train_plantfeatures, y_categorical))\n",
        "dataset = dataset.batch(32)\n",
        "dataset = dataset.shuffle(1000)\n",
        "dataset = dataset.repeat()"
      ],
      "execution_count": 0,
      "outputs": []
    },
    {
      "metadata": {
        "id": "3gj9O69fdCFA",
        "colab_type": "code",
        "colab": {
          "autoexec": {
            "startup": false,
            "wait_interval": 0
          }
        }
      },
      "cell_type": "code",
      "source": [
        "dataset_test = tf.data.Dataset.from_tensor_slices((test_plantfeatures, y_categorical_test))\n",
        "dataset_test = dataset_test.batch(32)\n",
        "dataset_test = dataset_test.shuffle(1000)\n",
        "dataset_test = dataset_test.repeat()"
      ],
      "execution_count": 0,
      "outputs": []
    },
    {
      "metadata": {
        "id": "botE10MRRR4Y",
        "colab_type": "text"
      },
      "cell_type": "markdown",
      "source": [
        "## Build  the Model"
      ]
    },
    {
      "metadata": {
        "id": "GboZlVonPAPH",
        "colab_type": "code",
        "colab": {
          "autoexec": {
            "startup": false,
            "wait_interval": 0
          }
        }
      },
      "cell_type": "code",
      "source": [
        "model = tf.keras.Sequential([\n",
        "  tf.keras.layers.Dense(16, input_dim=4),\n",
        "  tf.keras.layers.Dense(3, activation=tf.nn.softmax),\n",
        "])\n",
        "\n",
        "model.summary()"
      ],
      "execution_count": 0,
      "outputs": []
    },
    {
      "metadata": {
        "id": "MJDJFdpJ3WsF",
        "colab_type": "code",
        "colab": {
          "autoexec": {
            "startup": false,
            "wait_interval": 0
          }
        }
      },
      "cell_type": "code",
      "source": [
        "model.compile(loss='categorical_crossentropy',\n",
        "              optimizer='sgd',\n",
        "              metrics=['accuracy'])"
      ],
      "execution_count": 0,
      "outputs": []
    },
    {
      "metadata": {
        "id": "ydyf8tTawqSb",
        "colab_type": "text"
      },
      "cell_type": "markdown",
      "source": [
        "## Train the Model"
      ]
    },
    {
      "metadata": {
        "id": "jgM1M4HhwpWO",
        "colab_type": "code",
        "colab": {
          "autoexec": {
            "startup": false,
            "wait_interval": 0
          }
        }
      },
      "cell_type": "code",
      "source": [
        "model.fit(dataset, steps_per_epoch=32, epochs=100, verbose=1)"
      ],
      "execution_count": 0,
      "outputs": []
    },
    {
      "metadata": {
        "id": "S9S_jNi9SYyW",
        "colab_type": "text"
      },
      "cell_type": "markdown",
      "source": [
        "## Eval the model"
      ]
    },
    {
      "metadata": {
        "id": "0PYDj5XnwJUv",
        "colab_type": "code",
        "colab": {
          "autoexec": {
            "startup": false,
            "wait_interval": 0
          }
        }
      },
      "cell_type": "code",
      "source": [
        "loss, accuracy = model.evaluate(dataset_test, steps=32)\n",
        "\n",
        "print(\"loss:%f\"% (loss))\n",
        "print(\"accuracy: %f\"%   (accuracy))"
      ],
      "execution_count": 0,
      "outputs": []
    },
    {
      "metadata": {
        "id": "o3elJjo4epBQ",
        "colab_type": "text"
      },
      "cell_type": "markdown",
      "source": [
        "## Use the model"
      ]
    },
    {
      "metadata": {
        "id": "UZmCpwEFfJrE",
        "colab_type": "text"
      },
      "cell_type": "markdown",
      "source": [
        "If you need to test another specie, you can modify the **new_specie** array."
      ]
    },
    {
      "metadata": {
        "id": "I3cZF27oeXDv",
        "colab_type": "code",
        "colab": {
          "autoexec": {
            "startup": false,
            "wait_interval": 0
          }
        }
      },
      "cell_type": "code",
      "source": [
        "new_specie = np.array([7.9,3.8,6.4,2.0])\n",
        "predition = np.around(model.predict(np.expand_dims(new_specie, axis=0))).astype(np.int)[0]\n",
        "print(\"This species should be %s\" % species[predition.astype(np.bool)][0])"
      ],
      "execution_count": 0,
      "outputs": []
    },
    {
      "metadata": {
        "id": "dHpXgdil2ipR",
        "colab_type": "text"
      },
      "cell_type": "markdown",
      "source": [
        "# Save the model"
      ]
    },
    {
      "metadata": {
        "id": "oZNFf5HbybVP",
        "colab_type": "code",
        "colab": {
          "autoexec": {
            "startup": false,
            "wait_interval": 0
          }
        }
      },
      "cell_type": "code",
      "source": [
        "!mkdir model"
      ],
      "execution_count": 0,
      "outputs": []
    },
    {
      "metadata": {
        "id": "y3g4V4tOzC8v",
        "colab_type": "code",
        "colab": {
          "autoexec": {
            "startup": false,
            "wait_interval": 0
          }
        }
      },
      "cell_type": "code",
      "source": [
        "tf.keras.models.save_model(\n",
        "    model,\n",
        "    \"./model/iris_model.h5\",\n",
        "    overwrite=True,\n",
        "    include_optimizer=True\n",
        ")"
      ],
      "execution_count": 0,
      "outputs": []
    },
    {
      "metadata": {
        "id": "s5y6VMkkzz90",
        "colab_type": "code",
        "colab": {
          "autoexec": {
            "startup": false,
            "wait_interval": 0
          }
        }
      },
      "cell_type": "code",
      "source": [
        "new_model = tf.keras.models.load_model(\"./model/iris_model.h5\")\n",
        "\n",
        "xarray2 = np.array([7.9,3.8,6.4,2.0])\n",
        "\n",
        "pred = np.around(new_model.predict(np.expand_dims(xarray2, axis=0))).astype(np.int)[0]\n",
        "\n",
        "print(pred)\n",
        "\n",
        "print(\"That means it's a %s\" % species[pred.astype(np.bool)][0])"
      ],
      "execution_count": 0,
      "outputs": []
    },
    {
      "metadata": {
        "id": "CqugxBws1r1o",
        "colab_type": "text"
      },
      "cell_type": "markdown",
      "source": [
        "# Visualize the Graph"
      ]
    },
    {
      "metadata": {
        "id": "w5U0UOk61AgH",
        "colab_type": "code",
        "colab": {
          "autoexec": {
            "startup": false,
            "wait_interval": 0
          }
        }
      },
      "cell_type": "code",
      "source": [
        "graph = tf.get_default_graph()"
      ],
      "execution_count": 0,
      "outputs": []
    },
    {
      "metadata": {
        "id": "uIpQP68F1OjP",
        "colab_type": "code",
        "colab": {
          "autoexec": {
            "startup": false,
            "wait_interval": 0
          }
        }
      },
      "cell_type": "code",
      "source": [
        "# Let's visualize our graph!\n",
        "# Tip: to make your graph more readable you can add a\n",
        "# name=\"...\" parameter to the individual Ops.\n",
        "\n",
        "# src: https://github.com/tensorflow/tensorflow/blob/master/tensorflow/examples/tutorials/deepdream/deepdream.ipynb\n",
        "# requeried if is not importated before\n",
        "# import tensorflow as tf\n",
        "# import numpy as np\n",
        "\n",
        "from IPython.display import clear_output, Image, display, HTML\n",
        "\n",
        "def strip_consts(graph_def, max_const_size=32):\n",
        "    \"\"\"Strip large constant values from graph_def.\"\"\"\n",
        "    strip_def = tf.GraphDef()\n",
        "    for n0 in graph_def.node:\n",
        "        n = strip_def.node.add() \n",
        "        n.MergeFrom(n0)\n",
        "        if n.op == 'Const':\n",
        "            tensor = n.attr['value'].tensor\n",
        "            size = len(tensor.tensor_content)\n",
        "            if size > max_const_size:\n",
        "                tensor.tensor_content = \"<stripped %d bytes>\"%size\n",
        "    return strip_def\n",
        "\n",
        "def show_graph(graph_def, max_const_size=32):\n",
        "    \"\"\"Visualize TensorFlow graph.\"\"\"\n",
        "    if hasattr(graph_def, 'as_graph_def'):\n",
        "        graph_def = graph_def.as_graph_def()\n",
        "    strip_def = strip_consts(graph_def, max_const_size=max_const_size)\n",
        "    code = \"\"\"\n",
        "        <script>\n",
        "          function load() {{\n",
        "            document.getElementById(\"{id}\").pbtxt = {data};\n",
        "          }}\n",
        "        </script>\n",
        "        <link rel=\"import\" href=\"https://tensorboard.appspot.com/tf-graph-basic.build.html\" onload=load()>\n",
        "        <div style=\"height:600px\">\n",
        "          <tf-graph-basic id=\"{id}\"></tf-graph-basic>\n",
        "        </div>\n",
        "    \"\"\".format(data=repr(str(strip_def)), id='graph'+str(np.random.rand()))\n",
        "\n",
        "    iframe = \"\"\"\n",
        "        <iframe seamless style=\"width:1200px;height:620px;border:0\" srcdoc=\"{}\"></iframe>\n",
        "    \"\"\".format(code.replace('\"', '&quot;'))\n",
        "    display(HTML(iframe))"
      ],
      "execution_count": 0,
      "outputs": []
    },
    {
      "metadata": {
        "id": "510AgV5K1VPD",
        "colab_type": "code",
        "colab": {
          "autoexec": {
            "startup": false,
            "wait_interval": 0
          }
        }
      },
      "cell_type": "code",
      "source": [
        "show_graph(graph)"
      ],
      "execution_count": 0,
      "outputs": []
    }
  ]
}